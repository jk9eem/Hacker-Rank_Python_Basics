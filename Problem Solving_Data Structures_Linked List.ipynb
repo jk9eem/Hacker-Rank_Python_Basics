{
  "cells": [
    {
      "cell_type": "markdown",
      "metadata": {
        "id": "view-in-github",
        "colab_type": "text"
      },
      "source": [
        "<a href=\"https://colab.research.google.com/github/jk9eem/Hacker-Rank_Python_Basics/blob/main/Problem%20Solving_Data%20Structures_Linked%20List.ipynb\" target=\"_parent\"><img src=\"https://colab.research.google.com/assets/colab-badge.svg\" alt=\"Open In Colab\"/></a>"
      ]
    },
    {
      "cell_type": "markdown",
      "source": [
        "107.Print the Element of a Linked List"
      ],
      "metadata": {
        "id": "sBas8SJ-hPVD"
      }
    },
    {
      "cell_type": "code",
      "source": [
        "def printLinkedList(head):\n"
      ],
      "metadata": {
        "id": "jTzBGe-Dhcov"
      },
      "execution_count": null,
      "outputs": []
    }
  ],
  "metadata": {
    "colab": {
      "collapsed_sections": [],
      "name": "Welcome To Colaboratory",
      "toc_visible": true,
      "provenance": [],
      "include_colab_link": true
    },
    "kernelspec": {
      "display_name": "Python 3",
      "name": "python3"
    }
  },
  "nbformat": 4,
  "nbformat_minor": 0
}